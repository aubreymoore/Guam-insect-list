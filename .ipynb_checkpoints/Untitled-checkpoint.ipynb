{
 "cells": [
  {
   "cell_type": "code",
   "execution_count": 15,
   "id": "736aa3b0-c92e-4872-936b-68e4b6d8febc",
   "metadata": {},
   "outputs": [],
   "source": [
    "from collections import defaultdict\n",
    "import jinja2\n",
    "from dwca.read import DwCAReader"
   ]
  },
  {
   "cell_type": "code",
   "execution_count": 16,
   "id": "ab26518e-c64c-4230-ad33-94a590b09198",
   "metadata": {},
   "outputs": [],
   "source": [
    "DWCA = '/home/aubrey/Downloads/0263016-220831081235567.zip'"
   ]
  },
  {
   "cell_type": "code",
   "execution_count": 17,
   "id": "9bf26f3e-0757-49a4-bc6f-cfbaa21f3d35",
   "metadata": {},
   "outputs": [],
   "source": [
    "def build_dataframe(dwca):\n",
    "    \"\"\" \n",
    "    Builds a dataframe from the core data file of a Darwin core archive.\n",
    "    \"\"\"\n",
    "    with DwCAReader(DWCA) as dwca:\n",
    "        print(\"Core data file is: {}\".format(dwca.descriptor.core.file_location)) # => 'occurrence.txt'\n",
    "        df = dwca.pd_read('occurrence.txt', parse_dates=True, low_memory=False)\n",
    "\n",
    "    df.dropna(axis=1, how='all', inplace=True)\n",
    "    df.sort_values(by=['order','family','scientificName'], inplace=True)\n",
    "    return df"
   ]
  },
  {
   "cell_type": "code",
   "execution_count": 18,
   "id": "44ccc75c-9537-46bd-b33e-796b14cf0d58",
   "metadata": {},
   "outputs": [],
   "source": [
    "def build_taxonomy_json(df):\n",
    "    \"\"\"\n",
    "    Returns a hierarchical JSON string from selected columns in dataframe.\n",
    "    \"\"\"\n",
    "\n",
    "    def tree(): \n",
    "        return defaultdict(tree)\n",
    "\n",
    "    taxonomy = tree()\n",
    "    for i, r in df.iterrows():\n",
    "        order = r['order']\n",
    "        family= r['family']\n",
    "        sciname = r['scientificName']\n",
    "        taxonomy[order][family][sciname]\n",
    "    return taxonomy"
   ]
  },
  {
   "cell_type": "code",
   "execution_count": 19,
   "id": "d7980eac-7629-4383-b5db-dcc6b315da8a",
   "metadata": {},
   "outputs": [],
   "source": [
    "def build_treeview(taxonomy_json, indent):\n",
    "    \"\"\"\n",
    "    Returns html code for an interactive hierarchical tree view.\n",
    "    Data come from a hierarchical JSON string.\n",
    "    \"\"\"\n",
    "    html_string = ''\n",
    "    html_string = html_string + '  '*indent + '<ul class =\"nested\"> \\n'\n",
    "    for k, v in taxonomy_json.items():\n",
    "        if isinstance(v, dict):\n",
    "            if \"name\" in v.keys():\n",
    "                html_string = html_string + '  '*indent + \\\n",
    "                    '<li><span class=\"caret\">' + str(v[\"name\"]) + ' : ' + \\\n",
    "                    '</span> \\n '\n",
    "            else:\n",
    "                html_string = html_string + '  '*indent + \\\n",
    "                    '<li><span class=\"caret\">' + str(k) + ' : ' + '</span> \\n '\n",
    "            html_string = html_string + build_treeview(v, indent+1) + '  '*indent + '</li> \\n '\n",
    "    html_string = html_string + '  '*indent + '</ul> \\n '\n",
    "    return html_string"
   ]
  },
  {
   "cell_type": "code",
   "execution_count": 20,
   "id": "d569eae6-6a47-4045-9389-cdbe8e29974a",
   "metadata": {},
   "outputs": [],
   "source": [
    "# HTML TEMPLATE\n",
    "\n",
    "template_string = \"\"\"\n",
    "<!DOCTYPE html>\n",
    "<html>\n",
    "<head>\n",
    "<meta http-equiv=\"Content-Type\" content=\"text/html; charset=utf-8\">\n",
    "<meta name=\"viewport\" content=\"width=device-width, initial-scale=1\">\n",
    "<style>\n",
    "ul, #myUL {\n",
    "  list-style-type: none;\n",
    "}\n",
    "\n",
    "#myUL {\n",
    "  margin: 0;\n",
    "  padding: 0;\n",
    "}\n",
    "\n",
    ".caret {\n",
    "  cursor: pointer;\n",
    "  -webkit-user-select: none; /* Safari 3.1+ */\n",
    "  -moz-user-select: none; /* Firefox 2+ */\n",
    "  -ms-user-select: none; /* IE 10+ */\n",
    "  user-select: none;\n",
    "}\n",
    "\n",
    ".caret::before {\n",
    "  content: \"\\u25B6\";\n",
    "  color: black;\n",
    "  display: inline-block;\n",
    "  margin-right: 6px;\n",
    "}\n",
    "\n",
    ".caret-down::before {\n",
    "  -ms-transform: rotate(90deg); /* IE 9 */\n",
    "  -webkit-transform: rotate(90deg); /* Safari */'\n",
    "  transform: rotate(90deg);\n",
    "}\n",
    "\n",
    ".nested {\n",
    "  display: none;\n",
    "}\n",
    "\n",
    ".active {\n",
    "  display: block;\n",
    "}\n",
    "</style>\n",
    "</head>\n",
    "<body>\n",
    "<h1>List of Insect Taxa with Guam Occurrence Records Stored in the Global Biodiversity Information Facility (GBIF)</h1>\n",
    "\n",
    "<ul id=\"myUL\">\n",
    "<li><span class=\"caret\">class <b>Insecta</b></span>\n",
    "\n",
    "{{ treeview }}\n",
    "\n",
    "</li>\n",
    "</ul>\n",
    "\n",
    "<script>\n",
    "var toggler = document.getElementsByClassName(\"caret\");\n",
    "var i;\n",
    "\n",
    "for (i = 0; i < toggler.length; i++) {\n",
    "  toggler[i].addEventListener(\"click\", function() {\n",
    "    this.parentElement.querySelector(\".nested\").classList.toggle(\"active\");\n",
    "    this.classList.toggle(\"caret-down\");\n",
    "  });\n",
    "}\n",
    "</script>\n",
    "\n",
    "</body>\n",
    "</html>\n",
    "\"\"\""
   ]
  },
  {
   "cell_type": "code",
   "execution_count": 21,
   "id": "8ab0964c-9012-484a-bacc-0c716d5299c3",
   "metadata": {},
   "outputs": [
    {
     "name": "stdout",
     "output_type": "stream",
     "text": [
      "Core data file is: occurrence.txt\n",
      "FINISHED\n"
     ]
    }
   ],
   "source": [
    "# MAIN\n",
    "\n",
    "df = build_dataframe(DWCA)\n",
    "taxonomy_json = build_taxonomy_json(df)\n",
    "treeview = build_treeview(taxonomy_json, 2)\n",
    "    \n",
    "environment = jinja2.Environment()\n",
    "template = environment.from_string(template_string)\n",
    "html = template.render(treeview=treeview)\n",
    "with open('index.html', mode='w', encoding='utf-8') as f:\n",
    "    f.write(html)\n",
    "    \n",
    "print('FINISHED')"
   ]
  }
 ],
 "metadata": {
  "kernelspec": {
   "display_name": "Python 3 (ipykernel)",
   "language": "python",
   "name": "python3"
  },
  "language_info": {
   "codemirror_mode": {
    "name": "ipython",
    "version": 3
   },
   "file_extension": ".py",
   "mimetype": "text/x-python",
   "name": "python",
   "nbconvert_exporter": "python",
   "pygments_lexer": "ipython3",
   "version": "3.9.5"
  }
 },
 "nbformat": 4,
 "nbformat_minor": 5
}
